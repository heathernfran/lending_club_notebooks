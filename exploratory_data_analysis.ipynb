{
 "cells": [
  {
   "cell_type": "code",
   "execution_count": null,
   "metadata": {},
   "outputs": [],
   "source": [
    "import pandas as pd"
   ]
  },
  {
   "cell_type": "code",
   "execution_count": null,
   "metadata": {},
   "outputs": [],
   "source": [
    "data_dict = pd.read_csv(\"data/data_dictionary.csv\")\n",
    "data_dict"
   ]
  },
  {
   "cell_type": "code",
   "execution_count": null,
   "metadata": {},
   "outputs": [],
   "source": [
    "loan_df = pd.read_csv(\"data/lending_club_2007_2011_6_states.csv\")\n",
    "loan_df.sample(5)"
   ]
  },
  {
   "cell_type": "code",
   "execution_count": null,
   "metadata": {},
   "outputs": [],
   "source": [
    "loan_df.info()"
   ]
  },
  {
   "cell_type": "code",
   "execution_count": null,
   "metadata": {},
   "outputs": [],
   "source": [
    "loan_df.isna().sum().sort_values(ascending=False)"
   ]
  },
  {
   "cell_type": "code",
   "execution_count": null,
   "metadata": {},
   "outputs": [],
   "source": [
    "# Exclude features that are only available after loan origination\n",
    "\n",
    "loan_df.drop(\n",
    "    columns=[\n",
    "        \"last_credit_pull_d\",\n",
    "        \"last_pymnt_amnt\",\n",
    "        \"out_prncp\",\n",
    "        \"out_prncp_inv\",\n",
    "        \"total_acc\",\n",
    "        \"total_pymnt\",\n",
    "        \"total_pymnt_inv\",\n",
    "        \"total_rec_int\",\n",
    "        \"total_rec_late_fee\",\n",
    "        \"total_rec_prncp\",\n",
    "    ],\n",
    "    inplace=True,\n",
    ")"
   ]
  },
  {
   "cell_type": "code",
   "execution_count": null,
   "metadata": {},
   "outputs": [],
   "source": [
    "# Exclude features that have too many missing values / the missing values are hard to fill\n",
    "\n",
    "loan_df.drop(\n",
    "    columns=[\n",
    "        \"debt_settlement_flag_date\",\n",
    "        \"emp_length\",\n",
    "        \"emp_title\",\n",
    "        'mths_since_last_delinq',\n",
    "        \"mths_since_last_major_derog\",\n",
    "        \"mths_since_last_record\",\n",
    "        \"next_pymnt_d\",\n",
    "        \"revol_util\",\n",
    "    ],\n",
    "    inplace=True,\n",
    ")"
   ]
  },
  {
   "cell_type": "code",
   "execution_count": null,
   "metadata": {},
   "outputs": [],
   "source": [
    "loan_df.isna().sum().sort_values(ascending=False)"
   ]
  }
 ],
 "metadata": {
  "kernelspec": {
   "display_name": "venv",
   "language": "python",
   "name": "python3"
  },
  "language_info": {
   "codemirror_mode": {
    "name": "ipython",
    "version": 3
   },
   "file_extension": ".py",
   "mimetype": "text/x-python",
   "name": "python",
   "nbconvert_exporter": "python",
   "pygments_lexer": "ipython3",
   "version": "3.13.0"
  }
 },
 "nbformat": 4,
 "nbformat_minor": 2
}
